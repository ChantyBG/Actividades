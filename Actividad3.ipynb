{
  "metadata": {
    "language_info": {
      "codemirror_mode": {
        "name": "python",
        "version": 3
      },
      "file_extension": ".py",
      "mimetype": "text/x-python",
      "name": "python",
      "nbconvert_exporter": "python",
      "pygments_lexer": "ipython3",
      "version": "3.8"
    },
    "kernelspec": {
      "name": "python",
      "display_name": "Python (Pyodide)",
      "language": "python"
    }
  },
  "nbformat_minor": 4,
  "nbformat": 4,
  "cells": [
    {
      "cell_type": "code",
      "source": "import pandas as pd\nfrom sklearn.tree import DecisionTreeClassifier\n\nsongs_data = pd.read_csv('songs_clean.csv')\nfeature_vector = songs_data.drop(columns=['artist'])\nfeature_vector = feature_vector.values\nvector_target = songs_data['artist']\n\nmodel = DecisionTreeClassifier()\nmodel.fit(feature_vector, vector_target)\npredictions = model.predict([21,1],[22,0])\n\npredictions ",
      "metadata": {},
      "execution_count": null,
      "outputs": []
    }
  ]
}